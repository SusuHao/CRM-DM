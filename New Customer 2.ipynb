{
 "cells": [
  {
   "cell_type": "code",
   "execution_count": 5,
   "metadata": {
    "collapsed": false
   },
   "outputs": [],
   "source": [
    "from subprocess import check_output\n",
    "import numpy as np # linear algebra\n",
    "import pandas as pd # data processing, CSV file I/O (e.g. pd.read_csv)\n",
    "import matplotlib as mpl\n",
    "import matplotlib.pyplot as plt\n",
    "import seaborn as sns\n",
    "%matplotlib inline\n",
    "from sklearn.linear_model import SGDClassifier\n",
    "from sklearn.preprocessing import LabelEncoder\n",
    "from sklearn.model_selection import train_test_split\n",
    "from sklearn.ensemble import RandomForestClassifier\n",
    "from sklearn.calibration import CalibratedClassifierCV\n",
    "#import xgboost as xgb\n",
    "from sklearn.model_selection import GridSearchCV\n",
    "from sklearn.model_selection import StratifiedKFold\n",
    "from sklearn.feature_selection import SelectFromModel\n",
    "from sklearn.linear_model import LogisticRegression\n",
    "from sklearn import svm"
   ]
  },
  {
   "cell_type": "code",
   "execution_count": 21,
   "metadata": {
    "collapsed": true
   },
   "outputs": [],
   "source": [
    "df = pd.read_csv('/Users/Suki/Desktop/Zeiss/New Customer.csv')"
   ]
  },
  {
   "cell_type": "code",
   "execution_count": 23,
   "metadata": {
    "collapsed": false
   },
   "outputs": [
    {
     "data": {
      "text/html": [
       "<div>\n",
       "<table border=\"1\" class=\"dataframe\">\n",
       "  <thead>\n",
       "    <tr style=\"text-align: right;\">\n",
       "      <th></th>\n",
       "      <th>Customer_Purchase_History</th>\n",
       "      <th>Sales_Level</th>\n",
       "      <th>Purchase_Number</th>\n",
       "      <th>Salary</th>\n",
       "      <th>Marketing_Time</th>\n",
       "      <th>Alternative</th>\n",
       "      <th>Discount</th>\n",
       "      <th>Awareness</th>\n",
       "      <th>Marketing_Channel_Mail</th>\n",
       "      <th>Marketing_Channel_Online Advertisement</th>\n",
       "      <th>Marketing_Channel_Paid Search</th>\n",
       "      <th>Marketing_Channel_Personal Sales</th>\n",
       "      <th>Marketing_Channel_Referral</th>\n",
       "      <th>Marketing_Channel_Shop</th>\n",
       "      <th>Marketing_Channel_Social Media</th>\n",
       "      <th>Brand_Review_high</th>\n",
       "      <th>Brand_Review_low</th>\n",
       "      <th>Brand_Review_medium</th>\n",
       "    </tr>\n",
       "  </thead>\n",
       "  <tbody>\n",
       "    <tr>\n",
       "      <th>0</th>\n",
       "      <td>0.12</td>\n",
       "      <td>1.00</td>\n",
       "      <td>3</td>\n",
       "      <td>2780</td>\n",
       "      <td>2.5</td>\n",
       "      <td>0</td>\n",
       "      <td>0</td>\n",
       "      <td>1</td>\n",
       "      <td>1.0</td>\n",
       "      <td>0.0</td>\n",
       "      <td>0.0</td>\n",
       "      <td>0.0</td>\n",
       "      <td>0.0</td>\n",
       "      <td>0.0</td>\n",
       "      <td>0.0</td>\n",
       "      <td>0.0</td>\n",
       "      <td>0.0</td>\n",
       "      <td>1.0</td>\n",
       "    </tr>\n",
       "    <tr>\n",
       "      <th>1</th>\n",
       "      <td>0.10</td>\n",
       "      <td>0.77</td>\n",
       "      <td>7</td>\n",
       "      <td>2500</td>\n",
       "      <td>3.0</td>\n",
       "      <td>0</td>\n",
       "      <td>0</td>\n",
       "      <td>1</td>\n",
       "      <td>1.0</td>\n",
       "      <td>0.0</td>\n",
       "      <td>0.0</td>\n",
       "      <td>0.0</td>\n",
       "      <td>0.0</td>\n",
       "      <td>0.0</td>\n",
       "      <td>0.0</td>\n",
       "      <td>0.0</td>\n",
       "      <td>0.0</td>\n",
       "      <td>1.0</td>\n",
       "    </tr>\n",
       "    <tr>\n",
       "      <th>2</th>\n",
       "      <td>0.37</td>\n",
       "      <td>0.55</td>\n",
       "      <td>2</td>\n",
       "      <td>1270</td>\n",
       "      <td>2.0</td>\n",
       "      <td>0</td>\n",
       "      <td>0</td>\n",
       "      <td>1</td>\n",
       "      <td>1.0</td>\n",
       "      <td>0.0</td>\n",
       "      <td>0.0</td>\n",
       "      <td>0.0</td>\n",
       "      <td>0.0</td>\n",
       "      <td>0.0</td>\n",
       "      <td>0.0</td>\n",
       "      <td>0.0</td>\n",
       "      <td>0.0</td>\n",
       "      <td>1.0</td>\n",
       "    </tr>\n",
       "    <tr>\n",
       "      <th>3</th>\n",
       "      <td>0.89</td>\n",
       "      <td>0.87</td>\n",
       "      <td>5</td>\n",
       "      <td>2550</td>\n",
       "      <td>3.0</td>\n",
       "      <td>0</td>\n",
       "      <td>0</td>\n",
       "      <td>1</td>\n",
       "      <td>1.0</td>\n",
       "      <td>0.0</td>\n",
       "      <td>0.0</td>\n",
       "      <td>0.0</td>\n",
       "      <td>0.0</td>\n",
       "      <td>0.0</td>\n",
       "      <td>0.0</td>\n",
       "      <td>0.0</td>\n",
       "      <td>0.0</td>\n",
       "      <td>1.0</td>\n",
       "    </tr>\n",
       "    <tr>\n",
       "      <th>4</th>\n",
       "      <td>0.45</td>\n",
       "      <td>0.47</td>\n",
       "      <td>2</td>\n",
       "      <td>1350</td>\n",
       "      <td>2.0</td>\n",
       "      <td>0</td>\n",
       "      <td>0</td>\n",
       "      <td>1</td>\n",
       "      <td>1.0</td>\n",
       "      <td>0.0</td>\n",
       "      <td>0.0</td>\n",
       "      <td>0.0</td>\n",
       "      <td>0.0</td>\n",
       "      <td>0.0</td>\n",
       "      <td>0.0</td>\n",
       "      <td>0.0</td>\n",
       "      <td>0.0</td>\n",
       "      <td>1.0</td>\n",
       "    </tr>\n",
       "  </tbody>\n",
       "</table>\n",
       "</div>"
      ],
      "text/plain": [
       "   Customer_Purchase_History  Sales_Level  Purchase_Number  Salary  \\\n",
       "0                       0.12         1.00                3    2780   \n",
       "1                       0.10         0.77                7    2500   \n",
       "2                       0.37         0.55                2    1270   \n",
       "3                       0.89         0.87                5    2550   \n",
       "4                       0.45         0.47                2    1350   \n",
       "\n",
       "   Marketing_Time  Alternative  Discount  Awareness  Marketing_Channel_Mail  \\\n",
       "0             2.5            0         0          1                     1.0   \n",
       "1             3.0            0         0          1                     1.0   \n",
       "2             2.0            0         0          1                     1.0   \n",
       "3             3.0            0         0          1                     1.0   \n",
       "4             2.0            0         0          1                     1.0   \n",
       "\n",
       "   Marketing_Channel_Online Advertisement  Marketing_Channel_Paid Search  \\\n",
       "0                                     0.0                            0.0   \n",
       "1                                     0.0                            0.0   \n",
       "2                                     0.0                            0.0   \n",
       "3                                     0.0                            0.0   \n",
       "4                                     0.0                            0.0   \n",
       "\n",
       "   Marketing_Channel_Personal Sales  Marketing_Channel_Referral  \\\n",
       "0                               0.0                         0.0   \n",
       "1                               0.0                         0.0   \n",
       "2                               0.0                         0.0   \n",
       "3                               0.0                         0.0   \n",
       "4                               0.0                         0.0   \n",
       "\n",
       "   Marketing_Channel_Shop  Marketing_Channel_Social Media  Brand_Review_high  \\\n",
       "0                     0.0                             0.0                0.0   \n",
       "1                     0.0                             0.0                0.0   \n",
       "2                     0.0                             0.0                0.0   \n",
       "3                     0.0                             0.0                0.0   \n",
       "4                     0.0                             0.0                0.0   \n",
       "\n",
       "   Brand_Review_low  Brand_Review_medium  \n",
       "0               0.0                  1.0  \n",
       "1               0.0                  1.0  \n",
       "2               0.0                  1.0  \n",
       "3               0.0                  1.0  \n",
       "4               0.0                  1.0  "
      ]
     },
     "execution_count": 23,
     "metadata": {},
     "output_type": "execute_result"
    }
   ],
   "source": [
    "df_copy = pd.get_dummies(df)\n",
    "df_copy.head()"
   ]
  },
  {
   "cell_type": "code",
   "execution_count": 24,
   "metadata": {
    "collapsed": false
   },
   "outputs": [],
   "source": [
    "df1 = df_copy\n",
    "y = df1['Awareness'].values\n",
    "df1 = df1.drop(['Awareness'],axis=1)\n",
    "X = df1.values"
   ]
  },
  {
   "cell_type": "code",
   "execution_count": 25,
   "metadata": {
    "collapsed": false
   },
   "outputs": [],
   "source": [
    "Xtrain, Xtest, ytrain, ytest = train_test_split(X, y, test_size=0.50)"
   ]
  },
  {
   "cell_type": "code",
   "execution_count": 26,
   "metadata": {
    "collapsed": false
   },
   "outputs": [
    {
     "name": "stdout",
     "output_type": "stream",
     "text": [
      "Validation accuracy:  0.834128215442\n"
     ]
    }
   ],
   "source": [
    "log_reg = LogisticRegression()\n",
    "log_reg.fit(Xtrain, ytrain)\n",
    "y_val_l = log_reg.predict_proba(Xtest)\n",
    "print(\"Validation accuracy: \", sum(pd.DataFrame(y_val_l).idxmax(axis=1).values\n",
    "                                   == ytest)/len(ytest))"
   ]
  },
  {
   "cell_type": "code",
   "execution_count": 27,
   "metadata": {
    "collapsed": false
   },
   "outputs": [
    {
     "name": "stdout",
     "output_type": "stream",
     "text": [
      "Validation accuracy:  0.999961692429\n"
     ]
    }
   ],
   "source": [
    "radm = RandomForestClassifier()\n",
    "radm.fit(Xtrain, ytrain)\n",
    "y_val_l = radm.predict_proba(Xtest)\n",
    "print(\"Validation accuracy: \", sum(pd.DataFrame(y_val_l).idxmax(axis=1).values\n",
    "                                   == ytest)/len(ytest))\n",
    "clf = radm"
   ]
  },
  {
   "cell_type": "code",
   "execution_count": 28,
   "metadata": {
    "collapsed": false
   },
   "outputs": [
    {
     "name": "stdout",
     "output_type": "stream",
     "text": [
      "Feature ranking:\n",
      "1. feature 0 Customer_Purchase_History (0.272873)\n",
      "2. feature 4 Marketing_Time (0.249233)\n",
      "3. feature 3 Salary (0.150503)\n",
      "4. feature 1 Sales_Level (0.150294)\n",
      "5. feature 2 Purchase_Number (0.124381)\n",
      "6. feature 5 Alternative (0.012803)\n",
      "7. feature 15 Brand_Review_low (0.006784)\n",
      "8. feature 14 Brand_Review_high (0.006187)\n",
      "9. feature 11 Marketing_Channel_Referral (0.004223)\n",
      "10. feature 9 Marketing_Channel_Paid Search (0.003679)\n",
      "11. feature 16 Brand_Review_medium (0.003612)\n",
      "12. feature 12 Marketing_Channel_Shop (0.003293)\n",
      "13. feature 6 Discount (0.003153)\n",
      "14. feature 10 Marketing_Channel_Personal Sales (0.003037)\n",
      "15. feature 13 Marketing_Channel_Social Media (0.002617)\n",
      "16. feature 7 Marketing_Channel_Mail (0.001753)\n",
      "17. feature 8 Marketing_Channel_Online Advertisement (0.001575)\n"
     ]
    }
   ],
   "source": [
    "indices = np.argsort(radm.feature_importances_)[::-1]\n",
    "\n",
    "# Print the feature ranking\n",
    "print('Feature ranking:')\n",
    "\n",
    "for f in range(df1.shape[1]):\n",
    "    print('%d. feature %d %s (%f)' % (f+1 , indices[f], df1.columns[indices[f]],\n",
    "                                      radm.feature_importances_[indices[f]]))"
   ]
  },
  {
   "cell_type": "markdown",
   "metadata": {},
   "source": [
    "# The primary factors that influence customers to be aware of our products.\n",
    "\n",
    "1. Customer_Purchase_History (0.27)\n",
    "2. Marketing_Time (0.24)\n",
    "3. Salary (0.15)\n",
    "4. Sales_Level (0.15)\n",
    "5. Purchase_Number (0.12)"
   ]
  },
  {
   "cell_type": "markdown",
   "metadata": {},
   "source": [
    "# Predict who will be aware of our products soon."
   ]
  },
  {
   "cell_type": "code",
   "execution_count": 29,
   "metadata": {
    "collapsed": true
   },
   "outputs": [],
   "source": [
    "stay = df[df['Awareness'] == 0]\n",
    "stay_copy = pd.get_dummies(stay)"
   ]
  },
  {
   "cell_type": "code",
   "execution_count": 30,
   "metadata": {
    "collapsed": true
   },
   "outputs": [],
   "source": [
    "df1 = stay_copy\n",
    "y = df1['Awareness'].values\n",
    "df1 = df1.drop(['Awareness'],axis=1)\n",
    "X = df1.values"
   ]
  },
  {
   "cell_type": "code",
   "execution_count": 31,
   "metadata": {
    "collapsed": true
   },
   "outputs": [],
   "source": [
    "pred = clf.predict_proba(X)"
   ]
  },
  {
   "cell_type": "code",
   "execution_count": 32,
   "metadata": {
    "collapsed": false
   },
   "outputs": [
    {
     "data": {
      "text/plain": [
       "0"
      ]
     },
     "execution_count": 32,
     "metadata": {},
     "output_type": "execute_result"
    }
   ],
   "source": [
    "sum(pred[:,1]==1)"
   ]
  },
  {
   "cell_type": "code",
   "execution_count": 33,
   "metadata": {
    "collapsed": false
   },
   "outputs": [
    {
     "name": "stderr",
     "output_type": "stream",
     "text": [
      "//anaconda/lib/python3.5/site-packages/ipykernel/__main__.py:1: SettingWithCopyWarning: \n",
      "A value is trying to be set on a copy of a slice from a DataFrame.\n",
      "Try using .loc[row_indexer,col_indexer] = value instead\n",
      "\n",
      "See the caveats in the documentation: http://pandas.pydata.org/pandas-docs/stable/indexing.html#indexing-view-versus-copy\n",
      "  if __name__ == '__main__':\n"
     ]
    }
   ],
   "source": [
    "stay['Awareness Probability'] = pred[:,1]"
   ]
  },
  {
   "cell_type": "markdown",
   "metadata": {},
   "source": [
    "# Show who will likely to be aware of our products with probability greater than or equal to 95%."
   ]
  },
  {
   "cell_type": "code",
   "execution_count": 37,
   "metadata": {
    "collapsed": false,
    "scrolled": false
   },
   "outputs": [
    {
     "data": {
      "text/html": [
       "<div>\n",
       "<table border=\"1\" class=\"dataframe\">\n",
       "  <thead>\n",
       "    <tr style=\"text-align: right;\">\n",
       "      <th></th>\n",
       "      <th>Customer_Purchase_History</th>\n",
       "      <th>Sales_Level</th>\n",
       "      <th>Purchase_Number</th>\n",
       "      <th>Salary</th>\n",
       "      <th>Marketing_Time</th>\n",
       "      <th>Alternative</th>\n",
       "      <th>Discount</th>\n",
       "      <th>Marketing_Channel</th>\n",
       "      <th>Brand_Review</th>\n",
       "      <th>Awareness</th>\n",
       "      <th>Awareness Probability</th>\n",
       "    </tr>\n",
       "  </thead>\n",
       "  <tbody>\n",
       "    <tr>\n",
       "      <th>94034</th>\n",
       "      <td>0.4</td>\n",
       "      <td>0.48</td>\n",
       "      <td>2</td>\n",
       "      <td>1550</td>\n",
       "      <td>2.0</td>\n",
       "      <td>0</td>\n",
       "      <td>0</td>\n",
       "      <td>Shop</td>\n",
       "      <td>low</td>\n",
       "      <td>0</td>\n",
       "      <td>0.955273</td>\n",
       "    </tr>\n",
       "    <tr>\n",
       "      <th>95709</th>\n",
       "      <td>0.4</td>\n",
       "      <td>0.48</td>\n",
       "      <td>2</td>\n",
       "      <td>1550</td>\n",
       "      <td>2.0</td>\n",
       "      <td>0</td>\n",
       "      <td>0</td>\n",
       "      <td>Shop</td>\n",
       "      <td>low</td>\n",
       "      <td>0</td>\n",
       "      <td>0.955273</td>\n",
       "    </tr>\n",
       "    <tr>\n",
       "      <th>97384</th>\n",
       "      <td>0.4</td>\n",
       "      <td>0.48</td>\n",
       "      <td>2</td>\n",
       "      <td>1550</td>\n",
       "      <td>2.0</td>\n",
       "      <td>0</td>\n",
       "      <td>0</td>\n",
       "      <td>Shop</td>\n",
       "      <td>low</td>\n",
       "      <td>0</td>\n",
       "      <td>0.955273</td>\n",
       "    </tr>\n",
       "  </tbody>\n",
       "</table>\n",
       "</div>"
      ],
      "text/plain": [
       "       Customer_Purchase_History  Sales_Level  Purchase_Number  Salary  \\\n",
       "94034                        0.4         0.48                2    1550   \n",
       "95709                        0.4         0.48                2    1550   \n",
       "97384                        0.4         0.48                2    1550   \n",
       "\n",
       "       Marketing_Time  Alternative  Discount Marketing_Channel Brand_Review  \\\n",
       "94034             2.0            0         0              Shop          low   \n",
       "95709             2.0            0         0              Shop          low   \n",
       "97384             2.0            0         0              Shop          low   \n",
       "\n",
       "       Awareness  Awareness Probability  \n",
       "94034          0               0.955273  \n",
       "95709          0               0.955273  \n",
       "97384          0               0.955273  "
      ]
     },
     "execution_count": 37,
     "metadata": {},
     "output_type": "execute_result"
    }
   ],
   "source": [
    "stay[stay['Awareness Probability']>=0.95]"
   ]
  },
  {
   "cell_type": "code",
   "execution_count": null,
   "metadata": {
    "collapsed": true
   },
   "outputs": [],
   "source": []
  }
 ],
 "metadata": {
  "anaconda-cloud": {},
  "kernelspec": {
   "display_name": "Python [Root]",
   "language": "python",
   "name": "Python [Root]"
  },
  "language_info": {
   "codemirror_mode": {
    "name": "ipython",
    "version": 3
   },
   "file_extension": ".py",
   "mimetype": "text/x-python",
   "name": "python",
   "nbconvert_exporter": "python",
   "pygments_lexer": "ipython3",
   "version": "3.5.2"
  }
 },
 "nbformat": 4,
 "nbformat_minor": 0
}
